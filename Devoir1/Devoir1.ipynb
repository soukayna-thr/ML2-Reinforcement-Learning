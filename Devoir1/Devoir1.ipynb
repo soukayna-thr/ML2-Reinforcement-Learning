{
 "cells": [
  {
   "cell_type": "markdown",
   "id": "96e55532-654b-4b5c-b463-9c0d59f239d8",
   "metadata": {},
   "source": [
    "**Devoir : Implémentation d’un Agent d’Apprentissage par Renforcement**"
   ]
  },
  {
   "cell_type": "markdown",
   "id": "cab6fb66-d497-4522-96f9-8f7e541d4965",
   "metadata": {},
   "source": [
    "**1. Initialisation**"
   ]
  },
  {
   "cell_type": "markdown",
   "id": "eebbe7e3-55cb-44c5-bb96-6806736cf81c",
   "metadata": {},
   "source": [
    "* Importation du module random pour choisir des mouvements aléatoires"
   ]
  },
  {
   "cell_type": "code",
   "execution_count": 134,
   "id": "bdea1440-aee7-4860-b620-aa3bb1b3ee4f",
   "metadata": {},
   "outputs": [],
   "source": [
    "import random"
   ]
  },
  {
   "cell_type": "markdown",
   "id": "908c803b-9453-48a5-81dc-0d781222b08b",
   "metadata": {},
   "source": [
    "* Définition de la grille"
   ]
  },
  {
   "cell_type": "markdown",
   "id": "fdc030d8-b5a0-445e-8427-fe0223ed1a25",
   "metadata": {},
   "source": [
    "Noter que :\n",
    "0  : Case neutre\n",
    "-10 : Piège (pénalité)\n",
    "10  : Trésor (récompense)"
   ]
  },
  {
   "cell_type": "code",
   "execution_count": 137,
   "id": "c8edd39d-2bf3-4d68-9631-a75990306857",
   "metadata": {},
   "outputs": [],
   "source": [
    "grid = [\n",
    "    [0,  0,  0,  0,  0],\n",
    "    [0, -10,  0, -10,  0],\n",
    "    [0,  0,  0,  0,  0],\n",
    "    [0,  0,  0, 10,  0],  \n",
    "    [0,  0,  0,  0,  0]\n",
    "]"
   ]
  },
  {
   "cell_type": "markdown",
   "id": "285fe3ef-884f-4de1-8553-29ff3cf72c09",
   "metadata": {},
   "source": [
    "* Dimensions de la grille"
   ]
  },
  {
   "cell_type": "code",
   "execution_count": 139,
   "id": "7dbd6279-7fda-4665-a64a-49ed77c12bfe",
   "metadata": {},
   "outputs": [
    {
     "name": "stdout",
     "output_type": "stream",
     "text": [
      "Nombre de lignes :  5\n",
      "Nombre de colonnes : 5\n"
     ]
    }
   ],
   "source": [
    "rows = len(grid)         # Nombre de lignes\n",
    "cols = len(grid[0])      # Nombre de colonnes\n",
    "print(\"Nombre de lignes : \",rows)\n",
    "print(\"Nombre de colonnes :\",cols)"
   ]
  },
  {
   "cell_type": "markdown",
   "id": "ab119eca-a5e0-4a7c-8bd3-7a474922e6b3",
   "metadata": {},
   "source": [
    "* Définition des actions possibles pour l'agent (déplacements)"
   ]
  },
  {
   "cell_type": "code",
   "execution_count": 141,
   "id": "3945bb04-8fb1-45a7-9bad-55d325769177",
   "metadata": {},
   "outputs": [],
   "source": [
    "actions = {\n",
    "    'HAUT': (-1, 0),\n",
    "    'BAS': (1, 0),\n",
    "    'GAUCHE': (0, -1),\n",
    "    'DROITE': (0, 1)\n",
    "}"
   ]
  },
  {
   "cell_type": "markdown",
   "id": "cc3fe123-4335-4a87-81af-b84c637cd253",
   "metadata": {},
   "source": [
    "**2. Fonction pour vérifier si le déplacement est valide**"
   ]
  },
  {
   "cell_type": "code",
   "execution_count": null,
   "id": "7ec8cf20-942d-4efe-a4d2-2a562b67f1a0",
   "metadata": {},
   "outputs": [],
   "source": [
    "def is_valid_move(pos, move):\n",
    "    new_x = pos[0] + move[0]\n",
    "    new_y = pos[1] + move[1]\n",
    "    return 0 <= new_x < rows and 0 <= new_y < cols"
   ]
  },
  {
   "cell_type": "markdown",
   "id": "ad94bfa3-fc7c-41fd-9e16-31d31e4cd5df",
   "metadata": {},
   "source": [
    "**3. Fonction pour simuler le déplacement de l'agent**"
   ]
  },
  {
   "cell_type": "code",
   "execution_count": null,
   "id": "ed9f24a5-4e9a-4e85-b3b3-3d12d02a4fb5",
   "metadata": {},
   "outputs": [],
   "source": [
    "def simulate():\n",
    "    attempts = 0        # Compteur du nombre de tentatives\n",
    "\n",
    "    while True: \n",
    "        attempts += 1                       # Incrémentation du nombre de tentatives\n",
    "        agent_position = [0, 0]             # Position initiale de l'agent \n",
    "        score = 0                           # Score initial\n",
    "        steps = 0                           # Nombre d'étapes parcourues\n",
    "        max_steps = 1000                    # Limite pour éviter des boucles infinies\n",
    "\n",
    "        while steps < max_steps:\n",
    "            steps += 1\n",
    "            possible_moves = [move for move in actions.values() if is_valid_move(agent_position, move)]\n",
    "\n",
    "            if not possible_moves:\n",
    "                print(\"Aucun mouvement possible. Fin de la simulation.\")\n",
    "                break\n",
    "\n",
    "            # Sélectionner un mouvement aléatoire parmi ceux possibles\n",
    "            move = random.choice(possible_moves)\n",
    "            new_x = agent_position[0] + move[0]\n",
    "            new_y = agent_position[1] + move[1]\n",
    "\n",
    "            # Mise à jour de la position de l'agent\n",
    "            agent_position = [new_x, new_y]\n",
    "\n",
    "            # Réduction du score à chaque déplacement\n",
    "            score -= 1\n",
    "            cell_value = grid[new_x][new_y]\n",
    "\n",
    "            # Vérifier si l'agent tombe dans un piège\n",
    "            if cell_value == -10:\n",
    "                print(f\"Tentative {attempts}: L'agent est tombé dans un piège après {steps} étapes. Recommençons...\")\n",
    "                break  \n",
    "\n",
    "            # Vérifier si l'agent trouve le trésor\n",
    "            elif cell_value == 10:\n",
    "                score += 10  \n",
    "                print(f\"---> L'agent a trouvé le trésor en {steps} étapes après {attempts} tentatives ! Score final : {score} \")\n",
    "                return  "
   ]
  },
  {
   "cell_type": "markdown",
   "id": "23d37cac-b1b4-41dd-9824-cac5139ef326",
   "metadata": {},
   "source": [
    "**4. Exécution de la simulation**"
   ]
  },
  {
   "cell_type": "code",
   "execution_count": null,
   "id": "c6ac84f1-08e6-4ef1-b8c0-f0601fd659cf",
   "metadata": {},
   "outputs": [],
   "source": [
    "simulate()"
   ]
  },
  {
   "cell_type": "code",
   "execution_count": null,
   "id": "cdf55c6e-23ce-4f7f-a1f4-d2ec4102f14b",
   "metadata": {},
   "outputs": [],
   "source": []
  }
 ],
 "metadata": {
  "kernelspec": {
   "display_name": "Python 3 (ipykernel)",
   "language": "python",
   "name": "python3"
  },
  "language_info": {
   "codemirror_mode": {
    "name": "ipython",
    "version": 3
   },
   "file_extension": ".py",
   "mimetype": "text/x-python",
   "name": "python",
   "nbconvert_exporter": "python",
   "pygments_lexer": "ipython3",
   "version": "3.12.3"
  }
 },
 "nbformat": 4,
 "nbformat_minor": 5
}
